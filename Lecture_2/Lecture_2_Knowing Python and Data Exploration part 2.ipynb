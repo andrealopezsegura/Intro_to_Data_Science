{
 "cells": [
  {
   "cell_type": "markdown",
   "id": "faf1d1db",
   "metadata": {},
   "source": [
    "# Lecture 2: Part 2\n",
    "\n",
    "En esta sesión seguiremos explorando datos y veremos los sentencias importantes de la programación y su sintáxis <strong>for, if-else, while </strong> y las <strong>funciones</strong>."
   ]
  },
  {
   "cell_type": "code",
   "execution_count": null,
   "id": "645b0ea3",
   "metadata": {},
   "outputs": [],
   "source": [
    "import pandas as pd\n",
    "import numpy as np\n",
    "import matplotlib.pyploy as plt\n",
    "import seaborn as sns\n",
    "import os"
   ]
  },
  {
   "cell_type": "markdown",
   "id": "b287ea6d",
   "metadata": {},
   "source": [
    "## For loop\n",
    "\n",
    "For es un comando para repetir N veces una instrucción.\n",
    "Por ejemplo, si queremos imprimir los números del 1 al 10, hacemos lo siguiente:"
   ]
  },
  {
   "cell_type": "code",
   "execution_count": 1,
   "id": "128d1241",
   "metadata": {},
   "outputs": [
    {
     "name": "stdout",
     "output_type": "stream",
     "text": [
      "1\n",
      "2\n",
      "3\n",
      "4\n",
      "5\n",
      "6\n",
      "7\n",
      "8\n",
      "9\n",
      "10\n"
     ]
    }
   ],
   "source": [
    "for i in range(1,11):\n",
    "    print(i)"
   ]
  },
  {
   "cell_type": "markdown",
   "id": "e91e3324",
   "metadata": {},
   "source": [
    "varias cosas nuevas que vale la pena remarcar:\n",
    "    <ol> \n",
    "    <li>Valores identados después de los \":\"</li>\n",
    "    <li> el uso de range ¿qué es?</li>\n",
    "    <li><strong>for</strong> trabaja sobre listas, tuplas, diccionarios, conjuntos y cadenas</li>\n",
    "    </ol>\n",
    "    \n",
    "Veámos algunos otros ejemplos:"
   ]
  },
  {
   "cell_type": "code",
   "execution_count": null,
   "id": "557502d1",
   "metadata": {},
   "outputs": [],
   "source": [
    "alumnos="
   ]
  }
 ],
 "metadata": {
  "kernelspec": {
   "display_name": "Python 3 (ipykernel)",
   "language": "python",
   "name": "python3"
  },
  "language_info": {
   "codemirror_mode": {
    "name": "ipython",
    "version": 3
   },
   "file_extension": ".py",
   "mimetype": "text/x-python",
   "name": "python",
   "nbconvert_exporter": "python",
   "pygments_lexer": "ipython3",
   "version": "3.9.12"
  }
 },
 "nbformat": 4,
 "nbformat_minor": 5
}
